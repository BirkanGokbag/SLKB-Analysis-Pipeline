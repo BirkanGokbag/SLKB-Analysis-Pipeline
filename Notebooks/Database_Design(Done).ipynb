{
 "cells": [
  {
   "cell_type": "code",
   "execution_count": 1,
   "id": "17add89f",
   "metadata": {},
   "outputs": [],
   "source": [
    "import sqlite3\n",
    "import sqlalchemy"
   ]
  },
  {
   "cell_type": "code",
   "execution_count": 2,
   "id": "65e35c3f",
   "metadata": {},
   "outputs": [
    {
     "data": {
      "text/plain": [
       "<sqlite3.Cursor at 0x2b8b42b1b1f0>"
      ]
     },
     "execution_count": 2,
     "metadata": {},
     "output_type": "execute_result"
    }
   ],
   "source": [
    "# create connection\n",
    "conn = sqlite3.connect('SLKB_sqlite3') \n",
    "#conn = sqlite3.connect('shen_sqlite3') \n",
    "#conn = sqlite3.connect('shan_SLKB_sqlite3') \n",
    "#conn = sqlite3.connect('shan_new_SL')\n",
    "#conn = sqlite3.connect('shuai_SL')\n",
    "\n",
    "# get cursor\n",
    "c = conn.cursor()\n",
    "\n",
    "# turn on foreign keys\n",
    "c.execute(\"PRAGMA foreign_keys=ON\")"
   ]
  },
  {
   "cell_type": "markdown",
   "id": "62de23aa",
   "metadata": {},
   "source": [
    "## 1. CDKO Experiment Design"
   ]
  },
  {
   "cell_type": "code",
   "execution_count": 3,
   "id": "ea9b65d0",
   "metadata": {},
   "outputs": [],
   "source": [
    "c.execute('''\n",
    "          CREATE TABLE IF NOT EXISTS CDKO_EXPERIMENT_DESIGN\n",
    "          ([sgRNA_id] INTEGER, \n",
    "          [sgRNA_guide_name] TEXT NOT NULL,\n",
    "          [sgRNA_guide_seq] TEXT NOT NULL,\n",
    "          [sgRNA_target_name] TEXT NOT NULL,\n",
    "          [study_origin] TEXT NOT NULL,\n",
    "          PRIMARY KEY (sgRNA_id)\n",
    "          )\n",
    "          ''')\n",
    "\n",
    "conn.commit()"
   ]
  },
  {
   "cell_type": "code",
   "execution_count": 4,
   "id": "23c6bdd6",
   "metadata": {},
   "outputs": [
    {
     "data": {
      "text/plain": [
       "[(0, 'sgRNA_id', 'INTEGER', 0, None, 1),\n",
       " (1, 'sgRNA_guide_name', 'TEXT', 1, None, 0),\n",
       " (2, 'sgRNA_guide_seq', 'TEXT', 1, None, 0),\n",
       " (3, 'sgRNA_target_name', 'TEXT', 1, None, 0),\n",
       " (4, 'study_origin', 'TEXT', 1, None, 0)]"
      ]
     },
     "execution_count": 4,
     "metadata": {},
     "output_type": "execute_result"
    }
   ],
   "source": [
    "conn.execute(\"PRAGMA table_info('CDKO_EXPERIMENT_DESIGN')\").fetchall()"
   ]
  },
  {
   "cell_type": "markdown",
   "id": "13aa2286",
   "metadata": {},
   "source": [
    "## 2. CDKO sgRNA counts"
   ]
  },
  {
   "cell_type": "code",
   "execution_count": 5,
   "id": "18030bb4",
   "metadata": {},
   "outputs": [],
   "source": [
    "c.execute('''\n",
    "          CREATE TABLE IF NOT EXISTS CDKO_SGRNA_COUNTS\n",
    "          ([sgRNA_pair_id] INTEGER, \n",
    "          [guide_1_id] INTEGER,\n",
    "          [guide_2_id] INTEGER,\n",
    "          [gene_pair_id] INTEGER,\n",
    "          [gene_pair_orientation] TEXT,\n",
    "          [T0_counts] TEXT,\n",
    "          [T0_replicate_names] TEXT,\n",
    "          [TEnd_counts] TEXT,\n",
    "          [TEnd_replicate_names] TEXT,\n",
    "          [target_type] TEXT,\n",
    "          [study_origin] TEXT NOT NULL,\n",
    "          [cell_line_origin] TEXT NOT NULL,\n",
    "          PRIMARY KEY (sgRNA_pair_id),\n",
    "          FOREIGN KEY(guide_1_id) REFERENCES CDKO_EXPERIMENT_DESIGN(sgRNA_id),\n",
    "          FOREIGN KEY(guide_2_id) REFERENCES CDKO_EXPERIMENT_DESIGN(sgRNA_id)\n",
    "          \n",
    "          )\n",
    "          ''')\n",
    "\n",
    "conn.commit()"
   ]
  },
  {
   "cell_type": "code",
   "execution_count": 6,
   "id": "18e8591d",
   "metadata": {},
   "outputs": [],
   "source": [
    "# #           FOREIGN KEY(guide_1_id) REFERENCES CDKO_EXPERIMENT_DESIGN(sgRNA_id),\n",
    "# #           FOREIGN KEY(guide_2_id) REFERENCES CDKO_EXPERIMENT_DESIGN(sgRNA_id),\n",
    "#           FOREIGN KEY(gene_pair_id) REFERENCES CDKO_ORIGINAL_SL_RESULTS(gene_pair_id),\n",
    "#           FOREIGN KEY(gene_pair_id) REFERENCES HORLBECK_SCORE(gene_pair_id),\n",
    "#           FOREIGN KEY(gene_pair_id) REFERENCES MEDIAN_B_SCORE(gene_pair_id),\n",
    "#           FOREIGN KEY(gene_pair_id) REFERENCES MEDIAN_NB_SCORE(gene_pair_id),\n",
    "#           FOREIGN KEY(gene_pair_id) REFERENCES GEMINI_SCORE(gene_pair_id),\n",
    "#           FOREIGN KEY(gene_pair_id) REFERENCES SGRA_DERIVED_B_SCORE(gene_pair_id),\n",
    "#           FOREIGN KEY(gene_pair_id) REFERENCES SGRA_DERIVED_NB_SCORE(gene_pair_id)"
   ]
  },
  {
   "cell_type": "code",
   "execution_count": 7,
   "id": "3704934d",
   "metadata": {},
   "outputs": [],
   "source": [
    "# conn.execute(\"PRAGMA table_info('CDKO_SGRNA_COUNTS')\").fetchall()"
   ]
  },
  {
   "cell_type": "markdown",
   "id": "ea15c9cd",
   "metadata": {},
   "source": [
    "## 3. CDKO Original SL Results"
   ]
  },
  {
   "cell_type": "code",
   "execution_count": 8,
   "id": "418468a1",
   "metadata": {},
   "outputs": [],
   "source": [
    "c.execute('''\n",
    "          CREATE TABLE IF NOT EXISTS CDKO_ORIGINAL_SL_RESULTS\n",
    "          ([id] INTEGER,\n",
    "          [gene_pair_id] INTEGER, \n",
    "          [gene_pair] TEXT NOT NULL,\n",
    "          [study_origin] TEXT NOT NULL,\n",
    "          [cell_line_origin] TEXT NOT NULL,\n",
    "          [gene_1] TEXT NOT NULL,\n",
    "          [gene_2] TEXT NOT NULL,\n",
    "          [SL_or_not] TEXT NOT NULL,\n",
    "          [SL_score] REAL,\n",
    "          [statistical_score] REAL,\n",
    "          [SL_score_cutoff] REAL,\n",
    "          [statistical_score_cutoff] REAL,\n",
    "          PRIMARY KEY (id)\n",
    "          )\n",
    "          ''')\n",
    "\n",
    "conn.commit()"
   ]
  },
  {
   "cell_type": "code",
   "execution_count": 9,
   "id": "9ed97e8e",
   "metadata": {},
   "outputs": [
    {
     "data": {
      "text/plain": [
       "[(0, 'id', 'INTEGER', 0, None, 1),\n",
       " (1, 'gene_pair_id', 'INTEGER', 0, None, 0),\n",
       " (2, 'gene_pair', 'TEXT', 1, None, 0),\n",
       " (3, 'study_origin', 'TEXT', 1, None, 0),\n",
       " (4, 'cell_line_origin', 'TEXT', 1, None, 0),\n",
       " (5, 'gene_1', 'TEXT', 1, None, 0),\n",
       " (6, 'gene_2', 'TEXT', 1, None, 0),\n",
       " (7, 'SL_or_not', 'TEXT', 1, None, 0),\n",
       " (8, 'SL_score', 'REAL', 0, None, 0),\n",
       " (9, 'statistical_score', 'REAL', 0, None, 0),\n",
       " (10, 'SL_score_cutoff', 'REAL', 0, None, 0),\n",
       " (11, 'statistical_score_cutoff', 'REAL', 0, None, 0)]"
      ]
     },
     "execution_count": 9,
     "metadata": {},
     "output_type": "execute_result"
    }
   ],
   "source": [
    "conn.execute(\"PRAGMA table_info('CDKO_ORIGINAL_SL_RESULTS')\").fetchall()"
   ]
  },
  {
   "cell_type": "markdown",
   "id": "b72fac2b",
   "metadata": {},
   "source": [
    "## Results Tables"
   ]
  },
  {
   "cell_type": "markdown",
   "id": "547794b4",
   "metadata": {},
   "source": [
    "## Horlbeck Score"
   ]
  },
  {
   "cell_type": "code",
   "execution_count": 10,
   "id": "5394a272",
   "metadata": {},
   "outputs": [],
   "source": [
    "c.execute('''\n",
    "          CREATE TABLE IF NOT EXISTS HORLBECK_SCORE\n",
    "          ([id] INTEGER,\n",
    "          [gene_pair_id] INTEGER, \n",
    "          [SL_score] REAL,\n",
    "          [standard_error] REAL,\n",
    "          PRIMARY KEY (id)\n",
    "          )\n",
    "          ''')\n",
    "conn.commit()"
   ]
  },
  {
   "cell_type": "code",
   "execution_count": 11,
   "id": "d22a7f38",
   "metadata": {},
   "outputs": [
    {
     "data": {
      "text/plain": [
       "[(0, 'id', 'INTEGER', 0, None, 1),\n",
       " (1, 'gene_pair_id', 'INTEGER', 0, None, 0),\n",
       " (2, 'SL_score', 'REAL', 0, None, 0),\n",
       " (3, 'standard_error', 'REAL', 0, None, 0)]"
      ]
     },
     "execution_count": 11,
     "metadata": {},
     "output_type": "execute_result"
    }
   ],
   "source": [
    "c.execute(\"PRAGMA table_info('HORLBECK_SCORE')\").fetchall()"
   ]
  },
  {
   "cell_type": "code",
   "execution_count": 12,
   "id": "1c298201",
   "metadata": {},
   "outputs": [],
   "source": [
    "## Median-B Score"
   ]
  },
  {
   "cell_type": "code",
   "execution_count": 13,
   "id": "f801f155",
   "metadata": {},
   "outputs": [],
   "source": [
    "c.execute('''\n",
    "          CREATE TABLE IF NOT EXISTS MEDIAN_B_SCORE\n",
    "          ([id] INTEGER,\n",
    "          [gene_pair_id] INTEGER, \n",
    "          [SL_score] REAL,\n",
    "          [standard_error] REAL,\n",
    "          [Z_SL_score] REAL,\n",
    "          PRIMARY KEY (id)\n",
    "          )\n",
    "          ''')\n",
    "conn.commit()"
   ]
  },
  {
   "cell_type": "code",
   "execution_count": 14,
   "id": "36de44a8",
   "metadata": {},
   "outputs": [
    {
     "data": {
      "text/plain": [
       "[(0, 'id', 'INTEGER', 0, None, 1),\n",
       " (1, 'gene_pair_id', 'INTEGER', 0, None, 0),\n",
       " (2, 'SL_score', 'REAL', 0, None, 0),\n",
       " (3, 'standard_error', 'REAL', 0, None, 0),\n",
       " (4, 'Z_SL_score', 'REAL', 0, None, 0)]"
      ]
     },
     "execution_count": 14,
     "metadata": {},
     "output_type": "execute_result"
    }
   ],
   "source": [
    "c.execute(\"PRAGMA table_info('MEDIAN_B_SCORE')\").fetchall()"
   ]
  },
  {
   "cell_type": "code",
   "execution_count": 15,
   "id": "822aa2b9",
   "metadata": {},
   "outputs": [],
   "source": [
    "# c.execute('''\n",
    "#           CREATE TABLE IF NOT EXISTS MEDIAN_B_SCORE_FULL_NORM\n",
    "#           ([id] INTEGER,\n",
    "#           [gene_pair_id] INTEGER, \n",
    "#           [SL_score] REAL,\n",
    "#           [standard_error] REAL,\n",
    "#           [Z_SL_score] REAL,\n",
    "#           PRIMARY KEY (id)\n",
    "#           )\n",
    "#           ''')\n",
    "# conn.commit()"
   ]
  },
  {
   "cell_type": "code",
   "execution_count": 16,
   "id": "5b5f1ec9",
   "metadata": {},
   "outputs": [],
   "source": [
    "# c.execute(\"PRAGMA table_info('MEDIAN_B_SCORE_FULL_NORM')\").fetchall()"
   ]
  },
  {
   "cell_type": "code",
   "execution_count": 17,
   "id": "f6b9e8e0",
   "metadata": {},
   "outputs": [],
   "source": [
    "## Median-NB Score"
   ]
  },
  {
   "cell_type": "code",
   "execution_count": 18,
   "id": "d43bfcfa",
   "metadata": {},
   "outputs": [],
   "source": [
    "c.execute('''\n",
    "          CREATE TABLE IF NOT EXISTS MEDIAN_NB_SCORE\n",
    "          ([id] INTEGER,\n",
    "          [gene_pair_id] INTEGER, \n",
    "          [SL_score] REAL,\n",
    "          [standard_error] REAL,\n",
    "          [Z_SL_score] REAL,\n",
    "          PRIMARY KEY (id)\n",
    "          )\n",
    "          ''')\n",
    "conn.commit()"
   ]
  },
  {
   "cell_type": "code",
   "execution_count": 19,
   "id": "8003b107",
   "metadata": {},
   "outputs": [
    {
     "data": {
      "text/plain": [
       "[(0, 'id', 'INTEGER', 0, None, 1),\n",
       " (1, 'gene_pair_id', 'INTEGER', 0, None, 0),\n",
       " (2, 'SL_score', 'REAL', 0, None, 0),\n",
       " (3, 'standard_error', 'REAL', 0, None, 0),\n",
       " (4, 'Z_SL_score', 'REAL', 0, None, 0)]"
      ]
     },
     "execution_count": 19,
     "metadata": {},
     "output_type": "execute_result"
    }
   ],
   "source": [
    "c.execute(\"PRAGMA table_info('MEDIAN_NB_SCORE')\").fetchall()"
   ]
  },
  {
   "cell_type": "code",
   "execution_count": 20,
   "id": "1cf5baac",
   "metadata": {},
   "outputs": [],
   "source": [
    "# c.execute('''\n",
    "#           CREATE TABLE IF NOT EXISTS MEDIAN_NB_SCORE_FULL_NORM\n",
    "#           ([id] INTEGER,\n",
    "#           [gene_pair_id] INTEGER, \n",
    "#           [SL_score] REAL,\n",
    "#           [standard_error] REAL,\n",
    "#           [Z_SL_score] REAL,\n",
    "#           PRIMARY KEY (id)\n",
    "#           )\n",
    "#           ''')\n",
    "# conn.commit()"
   ]
  },
  {
   "cell_type": "code",
   "execution_count": 21,
   "id": "30a53034",
   "metadata": {},
   "outputs": [],
   "source": [
    "# c.execute(\"PRAGMA table_info('MEDIAN_NB_SCORE_FULL_NORM')\").fetchall()"
   ]
  },
  {
   "cell_type": "code",
   "execution_count": 22,
   "id": "7bd2c136",
   "metadata": {},
   "outputs": [],
   "source": [
    "## GEMINI Score"
   ]
  },
  {
   "cell_type": "code",
   "execution_count": 23,
   "id": "e2bd6003",
   "metadata": {},
   "outputs": [],
   "source": [
    "c.execute('''\n",
    "          CREATE TABLE IF NOT EXISTS GEMINI_SCORE\n",
    "          ([id] INTEGER,\n",
    "          [gene_pair_id] INTEGER, \n",
    "          [SL_score_Strong] REAL,\n",
    "          [SL_score_SensitiveLethality] REAL,\n",
    "          [SL_score_SensitiveRecovery] REAL,\n",
    "          PRIMARY KEY (id)\n",
    "          )\n",
    "          ''')\n",
    "conn.commit()"
   ]
  },
  {
   "cell_type": "code",
   "execution_count": 24,
   "id": "17474bb8",
   "metadata": {},
   "outputs": [
    {
     "data": {
      "text/plain": [
       "[(0, 'id', 'INTEGER', 0, None, 1),\n",
       " (1, 'gene_pair_id', 'INTEGER', 0, None, 0),\n",
       " (2, 'SL_score_Strong', 'REAL', 0, None, 0),\n",
       " (3, 'SL_score_SensitiveLethality', 'REAL', 0, None, 0),\n",
       " (4, 'SL_score_SensitiveRecovery', 'REAL', 0, None, 0)]"
      ]
     },
     "execution_count": 24,
     "metadata": {},
     "output_type": "execute_result"
    }
   ],
   "source": [
    "c.execute(\"PRAGMA table_info('GEMINI_SCORE')\").fetchall()"
   ]
  },
  {
   "cell_type": "code",
   "execution_count": 25,
   "id": "26dc4751",
   "metadata": {},
   "outputs": [],
   "source": [
    "## MAGeCK Score"
   ]
  },
  {
   "cell_type": "code",
   "execution_count": 26,
   "id": "d4818811",
   "metadata": {},
   "outputs": [],
   "source": [
    "c.execute('''\n",
    "          CREATE TABLE IF NOT EXISTS MAGECK_SCORE\n",
    "          ([id] INTEGER,\n",
    "          [gene_pair_id] INTEGER, \n",
    "          [SL_score] REAL,\n",
    "          [standard_error] REAL,\n",
    "          [Z_SL_score] REAL,\n",
    "          PRIMARY KEY (id)\n",
    "          )\n",
    "          ''')\n",
    "conn.commit()"
   ]
  },
  {
   "cell_type": "code",
   "execution_count": 27,
   "id": "37c9e24b",
   "metadata": {},
   "outputs": [
    {
     "data": {
      "text/plain": [
       "[(0, 'id', 'INTEGER', 0, None, 1),\n",
       " (1, 'gene_pair_id', 'INTEGER', 0, None, 0),\n",
       " (2, 'SL_score', 'REAL', 0, None, 0),\n",
       " (3, 'standard_error', 'REAL', 0, None, 0),\n",
       " (4, 'Z_SL_score', 'REAL', 0, None, 0)]"
      ]
     },
     "execution_count": 27,
     "metadata": {},
     "output_type": "execute_result"
    }
   ],
   "source": [
    "c.execute(\"PRAGMA table_info('MAGECK_SCORE')\").fetchall()"
   ]
  },
  {
   "cell_type": "code",
   "execution_count": 28,
   "id": "aefc66cd",
   "metadata": {},
   "outputs": [],
   "source": [
    "## sgRNA-Derived B Score"
   ]
  },
  {
   "cell_type": "code",
   "execution_count": 29,
   "id": "0cd081be",
   "metadata": {},
   "outputs": [],
   "source": [
    "c.execute('''\n",
    "          CREATE TABLE IF NOT EXISTS SGRA_DERIVED_B_SCORE\n",
    "          ([id] INTEGER,\n",
    "          [gene_pair_id] INTEGER, \n",
    "          [SL_score] REAL,\n",
    "          PRIMARY KEY (id)\n",
    "          )\n",
    "          ''')\n",
    "conn.commit()"
   ]
  },
  {
   "cell_type": "code",
   "execution_count": 30,
   "id": "da0109a3",
   "metadata": {},
   "outputs": [
    {
     "data": {
      "text/plain": [
       "[(0, 'id', 'INTEGER', 0, None, 1),\n",
       " (1, 'gene_pair_id', 'INTEGER', 0, None, 0),\n",
       " (2, 'SL_score', 'REAL', 0, None, 0)]"
      ]
     },
     "execution_count": 30,
     "metadata": {},
     "output_type": "execute_result"
    }
   ],
   "source": [
    "c.execute(\"PRAGMA table_info('SGRA_DERIVED_B_SCORE')\").fetchall()"
   ]
  },
  {
   "cell_type": "code",
   "execution_count": 31,
   "id": "3ba148d7",
   "metadata": {},
   "outputs": [],
   "source": [
    "# c.execute('''\n",
    "#           CREATE TABLE IF NOT EXISTS SGRA_DERIVED_B_SCORE_FULL_NORM\n",
    "#           ([id] INTEGER,\n",
    "#           [gene_pair_id] INTEGER, \n",
    "#           [SL_score] REAL,\n",
    "#           PRIMARY KEY (id)\n",
    "#           )\n",
    "#           ''')\n",
    "# conn.commit()"
   ]
  },
  {
   "cell_type": "code",
   "execution_count": 32,
   "id": "d5990aed",
   "metadata": {},
   "outputs": [],
   "source": [
    "# c.execute(\"PRAGMA table_info('SGRA_DERIVED_B_SCORE')\").fetchall()"
   ]
  },
  {
   "cell_type": "code",
   "execution_count": 33,
   "id": "8787a53e",
   "metadata": {},
   "outputs": [],
   "source": [
    "## sgRNA-Derived NB Score"
   ]
  },
  {
   "cell_type": "code",
   "execution_count": 34,
   "id": "a40e5f9b",
   "metadata": {},
   "outputs": [],
   "source": [
    "c.execute('''\n",
    "          CREATE TABLE IF NOT EXISTS SGRA_DERIVED_NB_SCORE\n",
    "          ([id] INTEGER,\n",
    "          [gene_pair_id] INTEGER, \n",
    "          [SL_score] REAL,\n",
    "          PRIMARY KEY (id)\n",
    "          )\n",
    "          ''')\n",
    "conn.commit()"
   ]
  },
  {
   "cell_type": "code",
   "execution_count": 35,
   "id": "64437a79",
   "metadata": {},
   "outputs": [
    {
     "data": {
      "text/plain": [
       "[(0, 'id', 'INTEGER', 0, None, 1),\n",
       " (1, 'gene_pair_id', 'INTEGER', 0, None, 0),\n",
       " (2, 'SL_score', 'REAL', 0, None, 0)]"
      ]
     },
     "execution_count": 35,
     "metadata": {},
     "output_type": "execute_result"
    }
   ],
   "source": [
    "c.execute(\"PRAGMA table_info('SGRA_DERIVED_NB_SCORE')\").fetchall()"
   ]
  },
  {
   "cell_type": "code",
   "execution_count": 36,
   "id": "32192d88",
   "metadata": {},
   "outputs": [],
   "source": [
    "# c.execute('''\n",
    "#           CREATE TABLE IF NOT EXISTS SGRA_DERIVED_NB_SCORE_FULL_NORM\n",
    "#           ([id] INTEGER,\n",
    "#           [gene_pair_id] INTEGER, \n",
    "#           [SL_score] REAL,\n",
    "#           PRIMARY KEY (id)\n",
    "#           )\n",
    "#           ''')\n",
    "# conn.commit()"
   ]
  },
  {
   "cell_type": "code",
   "execution_count": 37,
   "id": "0e1fd44b",
   "metadata": {},
   "outputs": [],
   "source": [
    "# c.execute(\"PRAGMA table_info('SGRA_DERIVED_NB_SCORE')\").fetchall()"
   ]
  },
  {
   "cell_type": "code",
   "execution_count": 38,
   "id": "73d63fde",
   "metadata": {},
   "outputs": [],
   "source": [
    "# ,\n",
    "#           FOREIGN KEY(gene_pair_id) REFERENCES CDKO_SGRNA_COUNTS(gene_pair_id)"
   ]
  },
  {
   "cell_type": "markdown",
   "id": "1a4e44e7",
   "metadata": {},
   "source": [
    "## 2. CDKO sgRNA counts"
   ]
  },
  {
   "cell_type": "code",
   "execution_count": 39,
   "id": "fdacc834",
   "metadata": {},
   "outputs": [],
   "source": [
    "# c.execute('''\n",
    "#           CREATE TABLE IF NOT EXISTS CDKO_SGRNA_COUNTS\n",
    "#           ([sgRNA_pair_id] INTEGER, \n",
    "#           [guide_1_id] INTEGER,\n",
    "#           [guide_2_id] INTEGER,\n",
    "#           [gene_pair_id] INTEGER,\n",
    "#           [gene_pair_orientation] TEXT,\n",
    "#           [T0_counts] TEXT,\n",
    "#           [T0_replicate_names] TEXT,\n",
    "#           [TEnd_counts] TEXT,\n",
    "#           [TEnd_replicate_names] TEXT,\n",
    "#           [target_type] TEXT,\n",
    "#           [study_origin] TEXT NOT NULL,\n",
    "#           [cell_line_origin] TEXT NOT NULL,\n",
    "#           PRIMARY KEY (sgRNA_pair_id),\n",
    "          \n",
    "#           FOREIGN KEY(guide_1_id) REFERENCES CDKO_EXPERIMENT_DESIGN(sgRNA_id),\n",
    "#           FOREIGN KEY(guide_2_id) REFERENCES CDKO_EXPERIMENT_DESIGN(sgRNA_id)\n",
    "          \n",
    "#           )\n",
    "#           ''')\n",
    "\n",
    "# conn.commit()"
   ]
  },
  {
   "cell_type": "code",
   "execution_count": 40,
   "id": "3a9dec51",
   "metadata": {},
   "outputs": [],
   "source": [
    "# ,\n",
    "#           FOREIGN KEY(gene_pair_id) REFERENCES CDKO_ORIGINAL_SL_RESULTS(gene_pair_id),\n",
    "#           FOREIGN KEY(gene_pair_id) REFERENCES HORLBECK_SCORE(gene_pair_id),\n",
    "#           FOREIGN KEY(gene_pair_id) REFERENCES MEDIAN_B_SCORE(gene_pair_id),\n",
    "#           FOREIGN KEY(gene_pair_id) REFERENCES MEDIAN_NB_SCORE(gene_pair_id),\n",
    "#           FOREIGN KEY(gene_pair_id) REFERENCES GEMINI_SCORE(gene_pair_id),\n",
    "#           FOREIGN KEY(gene_pair_id) REFERENCES SGRA_DERIVED_B_SCORE(gene_pair_id),\n",
    "#           FOREIGN KEY(gene_pair_id) REFERENCES SGRA_DERIVED_NB_SCORE(gene_pair_id)"
   ]
  },
  {
   "cell_type": "code",
   "execution_count": 41,
   "id": "f563265e",
   "metadata": {},
   "outputs": [],
   "source": [
    "#           FOREIGN KEY(guide_1_id) REFERENCES CDKO_EXPERIMENT_DESIGN(sgRNA_id),\n",
    "#           FOREIGN KEY(guide_2_id) REFERENCES CDKO_EXPERIMENT_DESIGN(sgRNA_id),\n",
    "#           FOREIGN KEY(gene_pair_id) REFERENCES CDKO_ORIGINAL_SL_RESULTS(gene_pair_id),\n",
    "#           FOREIGN KEY(gene_pair_id) REFERENCES HORLBECK_SCORE(gene_pair_id),\n",
    "#           FOREIGN KEY(gene_pair_id) REFERENCES MEDIAN_B_SCORE(gene_pair_id),\n",
    "#           FOREIGN KEY(gene_pair_id) REFERENCES MEDIAN_NB_SCORE(gene_pair_id),\n",
    "#           FOREIGN KEY(gene_pair_id) REFERENCES GEMINI_SCORE(gene_pair_id),\n",
    "#           FOREIGN KEY(gene_pair_id) REFERENCES SGRA_DERIVED_B_SCORE(gene_pair_id),\n",
    "#           FOREIGN KEY(gene_pair_id) REFERENCES SGRA_DERIVED_NB_SCORE(gene_pair_id)"
   ]
  },
  {
   "cell_type": "code",
   "execution_count": 42,
   "id": "3a21ec8c",
   "metadata": {},
   "outputs": [],
   "source": [
    "# conn.execute(\"PRAGMA table_info('CDKO_SGRNA_COUNTS')\").fetchall()"
   ]
  },
  {
   "cell_type": "markdown",
   "id": "72e90a4f",
   "metadata": {},
   "source": [
    "## Save changes"
   ]
  },
  {
   "cell_type": "code",
   "execution_count": 43,
   "id": "c61f2d18",
   "metadata": {},
   "outputs": [],
   "source": [
    "conn.close()"
   ]
  },
  {
   "cell_type": "code",
   "execution_count": 44,
   "id": "f90aca31",
   "metadata": {},
   "outputs": [],
   "source": [
    "# c.execute('select sql from sqlite_master').fetchall()\n",
    "#dbEngine=sqlalchemy.create_engine('sqlite:///SLKB_sqlite3')"
   ]
  }
 ],
 "metadata": {
  "kernelspec": {
   "display_name": "Python 3.9 (Conda 2022.05) [python/3.9-2022.05]",
   "language": "python",
   "name": "python39_202205"
  },
  "language_info": {
   "codemirror_mode": {
    "name": "ipython",
    "version": 3
   },
   "file_extension": ".py",
   "mimetype": "text/x-python",
   "name": "python",
   "nbconvert_exporter": "python",
   "pygments_lexer": "ipython3",
   "version": "3.9.12"
  }
 },
 "nbformat": 4,
 "nbformat_minor": 5
}
