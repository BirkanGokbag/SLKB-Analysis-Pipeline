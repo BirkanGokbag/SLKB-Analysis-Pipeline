{
 "cells": [
  {
   "attachments": {},
   "cell_type": "markdown",
   "metadata": {},
   "source": [
    "# SLKB Pipeline\n",
    "\n",
    "Here, we will go over the discussed pipeline using a Toy Data. Feel free to use this file to analyze your dataset. The file is divided into 3 main parts: (1) Data creation, (2) Score calculation, (3) Query Results\n",
    "\n",
    "## Before getting started\n",
    "\n",
    "Make sure an R environment with GEMINI, and mageck tool are located in your path. To see whether you can run their respective scores or not, you can run the following command:\n",
    "\n",
    "```\n",
    "import shutil\n",
    "shutil.which('R') ## should yield accessed R environment location\n",
    "shutil.which('mageck') ## should yield MAGeCK location\n",
    "```\n",
    "\n",
    "In additon, make sure to install SLKB python package. The details can be located at its [website](https://github.com/BirkanGokbag/SLKB-Analysis-Pipeline)\n",
    "\n"
   ]
  },
  {
   "cell_type": "code",
   "execution_count": 1,
   "metadata": {
    "tags": []
   },
   "outputs": [],
   "source": [
    "## First, we load in our packages\n",
    "import SLKB\n",
    "import pandas as pd\n",
    "import os\n",
    "import sqlalchemy\n",
    "from sqlalchemy.engine import URL\n",
    "# setting warning to None\n",
    "pd.set_option('mode.chained_assignment', None)"
   ]
  },
  {
   "attachments": {},
   "cell_type": "markdown",
   "metadata": {},
   "source": [
    "## Section 0 - Checking for MAGeCK and GEMINI Installation\n",
    "Make sure that the locations for GEMINI installation and MAGeCK script are accessible."
   ]
  },
  {
   "cell_type": "code",
   "execution_count": 2,
   "metadata": {
    "tags": []
   },
   "outputs": [
    {
     "name": "stdout",
     "output_type": "stream",
     "text": [
      "/usr/local/bin/R\n",
      "/Users/gokbag.1/Documents/CodingProjectsLocal/SLKB-Analysis-Pipeline/SLKB_env/bin/mageck\n"
     ]
    }
   ],
   "source": [
    "import shutil\n",
    "print(shutil.which('R')) ## should yield accessed R environment location\n",
    "print(shutil.which('mageck')) ## should yield MAGeCK location"
   ]
  },
  {
   "attachments": {},
   "cell_type": "markdown",
   "metadata": {
    "tags": []
   },
   "source": [
    "# Section 1 - Data Preperation and Database Creation\n",
    "\n",
    "First, we start by installing a pickle file that contains the demo data (Pickle version 4). Not all input files are required. For score calculation, only sequences and counts files are sufficient. "
   ]
  },
  {
   "cell_type": "code",
   "execution_count": 3,
   "metadata": {
    "tags": []
   },
   "outputs": [],
   "source": [
    "# taken from https://pubmed.ncbi.nlm.nih.gov/36060092/\n",
    "demo_data = SLKB.load_demo_data()\n",
    "\n",
    "sequence_ref = demo_data['sequence_ref']\n",
    "counts_ref = demo_data['counts_ref']\n",
    "score_ref = demo_data['score_ref']"
   ]
  },
  {
   "cell_type": "code",
   "execution_count": 4,
   "metadata": {
    "tags": []
   },
   "outputs": [],
   "source": [
    "# let us create a local sqlite3 database to store our results in, and connect to it, SLKB has schemas for mysql and sqlite3 databases\n",
    "url_object = URL.create(\n",
    "    \"mysql+mysqlconnector\",\n",
    "    username=\"root\",\n",
    "    password=\"password\",  # plain (unescaped) text\n",
    "    host=\"localhost\",\n",
    "    port = '3306',\n",
    "    #database=\"SLKB_mysql_live\",\n",
    ") # in mysql, database 'SLKB_mysql_live' will be created that can later be connected to. Following database creation, update the database parameter.\n",
    "# alternatively, a sqlite3 database\n",
    "url_object = 'sqlite:///SLKB_sqlite3'\n",
    "\n",
    "SLKB_engine = sqlalchemy.create_engine(url_object)\n",
    "\n",
    "# create the database at the url_object\n",
    "SLKB.create_SLKB(engine = SLKB_engine, db_type = 'sqlite3') # or mysql"
   ]
  },
  {
   "cell_type": "code",
   "execution_count": 5,
   "metadata": {
    "tags": []
   },
   "outputs": [],
   "source": [
    "# if mysql was chosen, the following command should be run before view is accessed (based on mysql version)\n",
    "# with SLKB_engine.begin() as transaction:\n",
    "#     transaction.execute(sqlalchemy.text('SET sql_mode=(SELECT REPLACE(@@sql_mode,\\'ONLY_FULL_GROUP_BY\\',\\'\\'));'))"
   ]
  },
  {
   "cell_type": "code",
   "execution_count": 6,
   "metadata": {
    "tags": []
   },
   "outputs": [
    {
     "data": {
      "text/plain": [
       "Engine(sqlite:///SLKB_sqlite3)"
      ]
     },
     "execution_count": 6,
     "metadata": {},
     "output_type": "execute_result"
    }
   ],
   "source": [
    "SLKB_engine"
   ]
  },
  {
   "cell_type": "code",
   "execution_count": 7,
   "metadata": {
    "tags": []
   },
   "outputs": [
    {
     "name": "stdout",
     "output_type": "stream",
     "text": [
      "Index(['guide_1', 'guide_2', 'gene_1', 'gene_2', 'count_replicates',\n",
      "       'cell_line_origin', 'study_conditions', 'study_origin'],\n",
      "      dtype='object')\n"
     ]
    }
   ],
   "source": [
    "print(counts_ref.columns)"
   ]
  },
  {
   "cell_type": "code",
   "execution_count": 8,
   "metadata": {
    "tags": []
   },
   "outputs": [
    {
     "name": "stdout",
     "output_type": "stream",
     "text": [
      "Index(['sgRNA_guide_name', 'sgRNA_guide_seq', 'sgRNA_target_name'], dtype='object')\n"
     ]
    }
   ],
   "source": [
    "print(sequence_ref.columns)"
   ]
  },
  {
   "cell_type": "code",
   "execution_count": 9,
   "metadata": {
    "tags": []
   },
   "outputs": [
    {
     "name": "stdout",
     "output_type": "stream",
     "text": [
      "Index(['gene_1', 'gene_2', 'study_origin', 'cell_line_origin', 'SL_score',\n",
      "       'SL_score_cutoff', 'statistical_score', 'statistical_score_cutoff'],\n",
      "      dtype='object')\n"
     ]
    }
   ],
   "source": [
    "print(score_ref.columns)"
   ]
  },
  {
   "attachments": {},
   "cell_type": "markdown",
   "metadata": {},
   "source": [
    "## Inserting to DB\n",
    "\n",
    "After each data is prepared, the study is ready to be inserted into the database. The ```prepare_study_for_export``` function will go over the data and prepare the data for insertion. It will produce errors where necessary, make sure that your files match with the template. \n",
    "\n",
    "Make sure your control gene list is set up properly to correctly categorize the counts file. The counts file will produce a ```target_type``` column that contains three categories:\n",
    "1. Dual - Both sgRNAs targeting different genes.\n",
    "2. Single - Both sgRNAs targeting the same gene (i.e., gene_1 + gene_1, or gene_1 + control)\n",
    "3. Control - Both sgRNAs targeting controls."
   ]
  },
  {
   "cell_type": "code",
   "execution_count": 10,
   "metadata": {
    "tags": []
   },
   "outputs": [
    {
     "name": "stdout",
     "output_type": "stream",
     "text": [
      "Starting processing...\n",
      "Score reference...\n",
      "Controls within SL score that are removed: \n",
      "0\n",
      "---\n",
      "Only GI cutoff is present...\n",
      "Counts reference...\n",
      "Number of double pairs: 37767\n",
      "Number of controls: 614\n",
      "Number of singles: 10550\n",
      "Sequence reference...\n",
      "Done! Returning...\n"
     ]
    }
   ],
   "source": [
    "study_controls = ['0SAFE',\n",
    "                 '0SAFE-SAFE-GE',\n",
    "                 '0SAFE-SAFE-SP',\n",
    "                 '0SAFE-SAFE-MP',\n",
    "                 '0SAFE-SAFE-U2',\n",
    "                 '0SAFE-SAFE-DTKP',\n",
    "                 '0SAFE-SAFE-ACOC',\n",
    "                 '0SAFE-SAFE-TMM',\n",
    "                 '0SAFE-SAFE-U1',\n",
    "                 '0SAFE-SAFE-U3']\n",
    "study_conditions = [[\"T0_1\", \n",
    "                     \"T0_2\"],\n",
    "                    [\"T12_1\",\n",
    "                     \"T12_2\"]]\n",
    "\n",
    "db_inserts = SLKB.prepare_study_for_export(sequence_ref = sequence_ref.copy(), \n",
    "                                      counts_ref = counts_ref.copy(),\n",
    "                                      score_ref = score_ref.copy(),\n",
    "                                      study_controls = study_controls,\n",
    "                                      study_conditions = study_conditions)\n"
   ]
  },
  {
   "cell_type": "code",
   "execution_count": 11,
   "metadata": {
    "tags": []
   },
   "outputs": [
    {
     "name": "stdout",
     "output_type": "stream",
     "text": [
      "Index(['gene_1', 'gene_2', 'study_origin', 'cell_line_origin', 'SL_score',\n",
      "       'SL_score_cutoff', 'statistical_score', 'statistical_score_cutoff',\n",
      "       'gene_pair', 'SL_or_not'],\n",
      "      dtype='object')\n"
     ]
    }
   ],
   "source": [
    "print(db_inserts['score_ref'].columns)"
   ]
  },
  {
   "cell_type": "code",
   "execution_count": 12,
   "metadata": {
    "tags": []
   },
   "outputs": [
    {
     "name": "stdout",
     "output_type": "stream",
     "text": [
      "Index(['sgRNA_guide_name', 'sgRNA_guide_seq', 'sgRNA_target_name',\n",
      "       'study_origin'],\n",
      "      dtype='object')\n"
     ]
    }
   ],
   "source": [
    "print(db_inserts['sequence_ref'].columns)"
   ]
  },
  {
   "cell_type": "code",
   "execution_count": 13,
   "metadata": {
    "tags": []
   },
   "outputs": [
    {
     "name": "stdout",
     "output_type": "stream",
     "text": [
      "Index(['guide_1', 'guide_2', 'gene_1', 'gene_2', 'count_replicates',\n",
      "       'cell_line_origin', 'study_conditions', 'study_origin', 'target_type',\n",
      "       'T0_counts', 'T0_replicate_names', 'TEnd_counts',\n",
      "       'TEnd_replicate_names', 'gene_pair', 'gene_pair_orientation'],\n",
      "      dtype='object')\n"
     ]
    }
   ],
   "source": [
    "print(db_inserts['counts_ref'].columns)"
   ]
  },
  {
   "cell_type": "code",
   "execution_count": 14,
   "metadata": {
    "tags": []
   },
   "outputs": [
    {
     "name": "stdout",
     "output_type": "stream",
     "text": [
      "Updating gene pairs with seperator |...\n",
      "Final QC...\n",
      "Beginning transaction...\n",
      "Done sequence\n",
      "Done counts\n",
      "Done score\n",
      "Successfully inserted!\n",
      "Added Record stats...\n",
      "Sequence insert: 247\n",
      "Counts insert: 48931\n",
      "Score insert: 1225\n",
      "Done!\n"
     ]
    }
   ],
   "source": [
    "# Finally, insert the data to the database\n",
    "SLKB.insert_study_to_db(SLKB_engine, db_inserts)"
   ]
  },
  {
   "attachments": {},
   "cell_type": "markdown",
   "metadata": {},
   "source": [
    "# Section 2 - Score Calculation\n",
    "\n",
    "Here, we calculate the scores and add them to the database. First, we start by querying the data we just deposited."
   ]
  },
  {
   "cell_type": "code",
   "execution_count": 15,
   "metadata": {
    "tags": []
   },
   "outputs": [],
   "source": [
    "# read the data\n",
    "\n",
    "# experiment design\n",
    "experiment_design = pd.read_sql_query(con=SLKB_engine.connect(), \n",
    "                              sql=sqlalchemy.text('SELECT * from CDKO_EXPERIMENT_DESIGN'.lower()), index_col = 'sgRNA_id')\n",
    "experiment_design.reset_index(drop = True, inplace = True)\n",
    "experiment_design.index.rename('sgRNA_id', inplace = True)\n",
    "\n",
    "# counts\n",
    "counts = pd.read_sql_query(con=SLKB_engine.connect(), \n",
    "                              sql=sqlalchemy.text('SELECT * from joined_counts'.lower()), index_col = 'sgRNA_pair_id')\n",
    "\n",
    "# scores\n",
    "scores = pd.read_sql_query(con=SLKB_engine.connect(), \n",
    "                              sql=sqlalchemy.text('SELECT * from CDKO_ORIGINAL_SL_RESULTS'.lower()), index_col = 'id')\n",
    "scores.reset_index(drop = True, inplace = True)\n",
    "scores.index.rename('gene_pair_id', inplace = True)\n",
    "\n",
    "curr_study = '36060092'\n",
    "curr_cl = '22RV1'\n",
    "curr_counts = counts[(counts['study_origin'] == curr_study) & (counts['cell_line_origin'] == curr_cl)]"
   ]
  },
  {
   "attachments": {},
   "cell_type": "markdown",
   "metadata": {
    "tags": []
   },
   "source": [
    "## Median B/NB Score"
   ]
  },
  {
   "cell_type": "code",
   "execution_count": 16,
   "metadata": {
    "tags": []
   },
   "outputs": [
    {
     "name": "stdout",
     "output_type": "stream",
     "text": [
      "Checking if score already computed: median_nb_score\n",
      "Running median scores...\n",
      "Getting raw counts...\n",
      "Filtering enabled... Condition: 35 counts\n",
      "Filtered a total of 8134 out of 48931 sgRNAs.\n",
      "\n",
      "---\n",
      "\n",
      "Not full normalization...\n",
      "Normalization enabled...\n",
      "Current counts:\n",
      "T0_1    4174896.0\n",
      "T0_2    4200469.0\n",
      "dtype: float64\n",
      "Normalize based on a specific value... 4771163.0 counts\n",
      "Normalization enabled...\n",
      "Current counts:\n",
      "T12_1    5341857.0\n",
      "T12_2    6456429.0\n",
      "dtype: float64\n",
      "Normalize based on a specific value... 4771163.0 counts\n",
      "Normalization enabled...\n",
      "Current counts:\n",
      "T0_1    34419.0\n",
      "T0_2    34661.0\n",
      "dtype: float64\n",
      "Normalize based on a specific value... 44888.0 counts\n",
      "Normalization enabled...\n",
      "Current counts:\n",
      "T12_1    55115.0\n",
      "T12_2    65234.0\n",
      "dtype: float64\n",
      "Normalize based on a specific value... 44888.0 counts\n",
      "Normalization enabled...\n",
      "Current counts:\n",
      "T0_1    877394.0\n",
      "T0_2    878730.0\n",
      "dtype: float64\n",
      "Normalize based on a specific value... 1064517.0 counts\n",
      "Normalization enabled...\n",
      "Current counts:\n",
      "T12_1    1250304.0\n",
      "T12_2    1491109.0\n",
      "dtype: float64\n",
      "Normalize based on a specific value... 1064517.0 counts\n",
      "Sorting gene pairs and guides based on ordering gene ordering...\n",
      "Available singles: 7673\n",
      "Available duals: 32780\n",
      "Available control: 344\n",
      "Filtered single sgRNA count: 0\n",
      "Filtered gene count: 0\n",
      "Filtered gene count: 0\n",
      "---------ADDING-TO-DB---------\n",
      "Processing table for: median_nb_score\n",
      "Beginning transaction...\n",
      "Successfully inserted!\n",
      "Added Record stats...\n",
      "Score insert: 1225\n",
      "---------ADDING-TO-DB---------\n",
      "Processing table for: median_b_score\n",
      "Beginning transaction...\n",
      "Successfully inserted!\n",
      "Added Record stats...\n",
      "Score insert: 1225\n"
     ]
    }
   ],
   "source": [
    "if not SLKB.check_if_added_to_table(curr_counts.copy(), 'median_nb_score', SLKB_engine):\n",
    "    median_res = SLKB.run_median_scores(curr_counts.copy(), curr_study = curr_study, curr_cl = curr_cl, store_loc = os.getcwd(), save_dir = 'MEDIAN_Files')\n",
    "    SLKB.add_table_to_db(curr_counts.copy(), median_res['MEDIAN_NB_SCORE'], 'median_nb_score', SLKB_engine)\n",
    "    if median_res['MEDIAN_B_SCORE'] is not None:\n",
    "        SLKB.add_table_to_db(curr_counts.copy(), median_res['MEDIAN_B_SCORE'], 'median_b_score', SLKB_engine)"
   ]
  },
  {
   "attachments": {},
   "cell_type": "markdown",
   "metadata": {},
   "source": [
    "## sgRNA Derived B/NB Score"
   ]
  },
  {
   "cell_type": "code",
   "execution_count": 17,
   "metadata": {
    "tags": []
   },
   "outputs": [
    {
     "name": "stdout",
     "output_type": "stream",
     "text": [
      "Checking if score already computed: sgrna_derived_nb_score\n",
      "Running sgrna derived score...\n",
      "Getting raw counts...\n",
      "Filtering enabled... Condition: 35 counts\n",
      "Filtered a total of 8134 out of 48931 sgRNAs.\n",
      "\n",
      "---\n",
      "\n",
      "Not full normalization...\n",
      "Normalization enabled...\n",
      "Current counts:\n",
      "T0_1    4174896.0\n",
      "T0_2    4200469.0\n",
      "dtype: float64\n",
      "Normalize based on a specific value... 4771163.0 counts\n",
      "Normalization enabled...\n",
      "Current counts:\n",
      "T12_1    5341857.0\n",
      "T12_2    6456429.0\n",
      "dtype: float64\n",
      "Normalize based on a specific value... 4771163.0 counts\n",
      "Normalization enabled...\n",
      "Current counts:\n",
      "T0_1    34419.0\n",
      "T0_2    34661.0\n",
      "dtype: float64\n",
      "Normalize based on a specific value... 44888.0 counts\n",
      "Normalization enabled...\n",
      "Current counts:\n",
      "T12_1    55115.0\n",
      "T12_2    65234.0\n",
      "dtype: float64\n",
      "Normalize based on a specific value... 44888.0 counts\n",
      "Normalization enabled...\n",
      "Current counts:\n",
      "T0_1    877394.0\n",
      "T0_2    878730.0\n",
      "dtype: float64\n",
      "Normalize based on a specific value... 1064517.0 counts\n",
      "Normalization enabled...\n",
      "Current counts:\n",
      "T12_1    1250304.0\n",
      "T12_2    1491109.0\n",
      "dtype: float64\n",
      "Normalize based on a specific value... 1064517.0 counts\n",
      "Sorting gene pairs and guides based on ordering gene ordering...\n",
      "Starting scoring..\n",
      "calculating for replicate 0\n",
      "Filtered single sgRNA count: 0\n",
      "Filtered single sgRNA count: 0\n",
      "calculating for replicate 1\n",
      "Filtered single sgRNA count: 0\n",
      "Filtered single sgRNA count: 0\n",
      "---------ADDING-TO-DB---------\n",
      "Processing table for: sgrna_derived_nb_score\n",
      "Beginning transaction...\n",
      "Successfully inserted!\n",
      "Added Record stats...\n",
      "Score insert: 1225\n",
      "---------ADDING-TO-DB---------\n",
      "Processing table for: sgrna_derived_b_score\n",
      "Beginning transaction...\n",
      "Successfully inserted!\n",
      "Added Record stats...\n",
      "Score insert: 1225\n"
     ]
    }
   ],
   "source": [
    "if not SLKB.check_if_added_to_table(curr_counts.copy(), 'sgrna_derived_nb_score', SLKB_engine):\n",
    "    sgRNA_res = SLKB.run_sgrna_scores(curr_counts.copy(), curr_study = curr_study, curr_cl = curr_cl, store_loc = os.getcwd(), save_dir = 'sgRNA-DERIVED_Files')\n",
    "    SLKB.add_table_to_db(curr_counts.copy(), sgRNA_res['SGRNA_DERIVED_NB_SCORE'], 'sgrna_derived_nb_score', SLKB_engine)\n",
    "    if sgRNA_res['SGRNA_DERIVED_B_SCORE'] is not None:\n",
    "        SLKB.add_table_to_db(curr_counts.copy(), sgRNA_res['SGRNA_DERIVED_B_SCORE'], 'sgrna_derived_b_score', SLKB_engine)"
   ]
  },
  {
   "attachments": {},
   "cell_type": "markdown",
   "metadata": {},
   "source": [
    "## Horlbeck Score"
   ]
  },
  {
   "cell_type": "code",
   "execution_count": 18,
   "metadata": {
    "tags": []
   },
   "outputs": [
    {
     "name": "stdout",
     "output_type": "stream",
     "text": [
      "Checking if score already computed: horlbeck_score\n",
      "Running horlbeck score...\n",
      "Running preprocessing...\n",
      "Getting raw counts...\n",
      "Sorting gene pairs and guides based on ordering gene ordering...\n",
      "For replicate 1\n",
      "Total of 12 sgRNAs were filtered out of 222\n",
      "For replicate 2\n",
      "Total of 7 sgRNAs were filtered out of 222\n"
     ]
    },
    {
     "name": "stderr",
     "output_type": "stream",
     "text": [
      "/Users/gokbag.1/Documents/CodingProjectsLocal/SLKB-Analysis-Pipeline/SLKB_env/lib/python3.10/site-packages/pandas/core/groupby/ops.py:839: RuntimeWarning: Mean of empty slice\n",
      "  res = f(group)\n"
     ]
    },
    {
     "name": "stdout",
     "output_type": "stream",
     "text": [
      "Calculating GI_Score_1...\n",
      "Calculating GI_Score_2...\n"
     ]
    },
    {
     "name": "stderr",
     "output_type": "stream",
     "text": [
      "/Users/gokbag.1/Documents/CodingProjectsLocal/SLKB-Analysis-Pipeline/SLKB_env/lib/python3.10/site-packages/numpy/core/_methods.py:262: RuntimeWarning: Degrees of freedom <= 0 for slice\n",
      "  ret = _var(a, axis=axis, dtype=dtype, out=out, ddof=ddof,\n",
      "/Users/gokbag.1/Documents/CodingProjectsLocal/SLKB-Analysis-Pipeline/SLKB_env/lib/python3.10/site-packages/numpy/core/_methods.py:254: RuntimeWarning: invalid value encountered in double_scalars\n",
      "  ret = ret.dtype.type(ret / rcount)\n"
     ]
    },
    {
     "name": "stdout",
     "output_type": "stream",
     "text": [
      "---------ADDING-TO-DB---------\n",
      "Processing table for: horlbeck_score\n",
      "Beginning transaction...\n",
      "Successfully inserted!\n",
      "Added Record stats...\n",
      "Score insert: 1225\n"
     ]
    }
   ],
   "source": [
    "if not SLKB.check_if_added_to_table(curr_counts.copy(), 'horlbeck_score', SLKB_engine):\n",
    "    horlbeck_res = SLKB.run_horlbeck_score(curr_counts.copy(), curr_study = curr_study, curr_cl = curr_cl, store_loc = os.getcwd(), save_dir = 'HORLBECK_Files', do_preprocessing = True, re_run = False)\n",
    "    SLKB.add_table_to_db(curr_counts.copy(), horlbeck_res['HORLBECK_SCORE'], 'horlbeck_score', SLKB_engine)"
   ]
  },
  {
   "attachments": {},
   "cell_type": "markdown",
   "metadata": {},
   "source": [
    "## GEMINI Score"
   ]
  },
  {
   "cell_type": "code",
   "execution_count": 19,
   "metadata": {
    "tags": []
   },
   "outputs": [
    {
     "name": "stdout",
     "output_type": "stream",
     "text": [
      "Checking if score already computed: gemini_score\n",
      "Running gemini score...\n",
      "Getting raw counts...\n",
      "Running GEMINI...\n",
      "Finished running GEMINI!\n",
      "---------ADDING-TO-DB---------\n",
      "Processing table for: gemini_score\n",
      "Beginning transaction...\n",
      "Successfully inserted!\n",
      "Added Record stats...\n",
      "Score insert: 1225\n"
     ]
    }
   ],
   "source": [
    "cmd_params = []#['module load R/4.1.0']\n",
    "if not SLKB.check_if_added_to_table(curr_counts.copy(), 'gemini_score', SLKB_engine):\n",
    "    gemini_res = SLKB.run_gemini_score(curr_counts.copy(), curr_study = curr_study, curr_cl = curr_cl, store_loc = os.getcwd(), save_dir = 'GEMINI_Files', command_line_params = cmd_params, re_run = False)\n",
    "    SLKB.add_table_to_db(curr_counts.copy(), gemini_res['GEMINI_SCORE'], 'gemini_score', SLKB_engine)"
   ]
  },
  {
   "attachments": {},
   "cell_type": "markdown",
   "metadata": {},
   "source": [
    "## MAGeCK Score"
   ]
  },
  {
   "cell_type": "code",
   "execution_count": 20,
   "metadata": {
    "tags": []
   },
   "outputs": [
    {
     "name": "stdout",
     "output_type": "stream",
     "text": [
      "Checking if score already computed: mageck_score\n",
      "Running mageck score...\n",
      "Getting raw counts...\n",
      "Paired Status = True\n",
      "Running mageck...\n",
      "Finished running mageck!\n",
      "Loading computed results...\n",
      "Filtered gene count: 0\n",
      "---------ADDING-TO-DB---------\n",
      "Processing table for: mageck_score\n",
      "Beginning transaction...\n",
      "Successfully inserted!\n",
      "Added Record stats...\n",
      "Score insert: 1225\n"
     ]
    }
   ],
   "source": [
    "cmd_params = []#'conda activate myEnv'\n",
    "if not SLKB.check_if_added_to_table(curr_counts.copy(), 'mageck_score', SLKB_engine):\n",
    "    mageck_res = SLKB.run_mageck_score(curr_counts.copy(), curr_study = curr_study, curr_cl = curr_cl, store_loc = os.getcwd(), save_dir = 'MAGECK_Files', command_line_params = cmd_params,re_run = False)\n",
    "    SLKB.add_table_to_db(curr_counts.copy(), mageck_res['MAGECK_SCORE'], 'mageck_score', SLKB_engine)"
   ]
  },
  {
   "attachments": {},
   "cell_type": "markdown",
   "metadata": {},
   "source": [
    "# Section 3 - Query Results\n",
    "\n",
    "Finally, we can query the data to produce the calculation table."
   ]
  },
  {
   "cell_type": "code",
   "execution_count": 21,
   "metadata": {
    "tags": []
   },
   "outputs": [],
   "source": [
    "all_scores = pd.read_sql_query(con=SLKB_engine.connect(), \n",
    "                              sql=sqlalchemy.text('SELECT * from calculated_sl_table'))"
   ]
  },
  {
   "cell_type": "code",
   "execution_count": 22,
   "metadata": {
    "tags": []
   },
   "outputs": [
    {
     "data": {
      "text/html": [
       "<div>\n",
       "<style scoped>\n",
       "    .dataframe tbody tr th:only-of-type {\n",
       "        vertical-align: middle;\n",
       "    }\n",
       "\n",
       "    .dataframe tbody tr th {\n",
       "        vertical-align: top;\n",
       "    }\n",
       "\n",
       "    .dataframe thead th {\n",
       "        text-align: right;\n",
       "    }\n",
       "</style>\n",
       "<table border=\"1\" class=\"dataframe\">\n",
       "  <thead>\n",
       "    <tr style=\"text-align: right;\">\n",
       "      <th></th>\n",
       "      <th>gene_1</th>\n",
       "      <th>gene_2</th>\n",
       "      <th>study_origin</th>\n",
       "      <th>cell_line_origin</th>\n",
       "      <th>gene_pair_id</th>\n",
       "      <th>median_nb_score_SL_score</th>\n",
       "      <th>median_nb_score_standard_error</th>\n",
       "      <th>median_nb_score_Z_SL_score</th>\n",
       "      <th>median_b_score_SL_score</th>\n",
       "      <th>median_b_score_standard_error</th>\n",
       "      <th>...</th>\n",
       "      <th>sgrna_derived_b_score_SL_score</th>\n",
       "      <th>sgrna_derived_nb_score_SL_score</th>\n",
       "      <th>horlbeck_score_SL_score</th>\n",
       "      <th>horlbeck_score_standard_error</th>\n",
       "      <th>mageck_score_SL_score</th>\n",
       "      <th>mageck_score_standard_error</th>\n",
       "      <th>mageck_score_Z_SL_score</th>\n",
       "      <th>gemini_score_SL_score_Strong</th>\n",
       "      <th>gemini_score_SL_score_SensitiveLethality</th>\n",
       "      <th>gemini_score_SL_score_SensitiveRecovery</th>\n",
       "    </tr>\n",
       "  </thead>\n",
       "  <tbody>\n",
       "    <tr>\n",
       "      <th>0</th>\n",
       "      <td>AKT3</td>\n",
       "      <td>AR</td>\n",
       "      <td>36060092</td>\n",
       "      <td>22RV1</td>\n",
       "      <td>496</td>\n",
       "      <td>-0.022646</td>\n",
       "      <td>0.056881</td>\n",
       "      <td>-0.398139</td>\n",
       "      <td>-0.062565</td>\n",
       "      <td>0.056881</td>\n",
       "      <td>...</td>\n",
       "      <td>-2.490022</td>\n",
       "      <td>-1.760639</td>\n",
       "      <td>-0.589468</td>\n",
       "      <td>0.258965</td>\n",
       "      <td>-0.068160</td>\n",
       "      <td>0.066297</td>\n",
       "      <td>-1.028105</td>\n",
       "      <td>-0.091424</td>\n",
       "      <td>-0.091424</td>\n",
       "      <td>NaN</td>\n",
       "    </tr>\n",
       "    <tr>\n",
       "      <th>1</th>\n",
       "      <td>AKT3</td>\n",
       "      <td>AURKA</td>\n",
       "      <td>36060092</td>\n",
       "      <td>22RV1</td>\n",
       "      <td>497</td>\n",
       "      <td>0.060470</td>\n",
       "      <td>0.102366</td>\n",
       "      <td>0.590720</td>\n",
       "      <td>0.020551</td>\n",
       "      <td>0.102366</td>\n",
       "      <td>...</td>\n",
       "      <td>0.346373</td>\n",
       "      <td>0.496084</td>\n",
       "      <td>-0.014408</td>\n",
       "      <td>0.156112</td>\n",
       "      <td>0.044937</td>\n",
       "      <td>0.086791</td>\n",
       "      <td>0.517758</td>\n",
       "      <td>-0.046752</td>\n",
       "      <td>-0.046752</td>\n",
       "      <td>NaN</td>\n",
       "    </tr>\n",
       "    <tr>\n",
       "      <th>2</th>\n",
       "      <td>AKT3</td>\n",
       "      <td>BMP6</td>\n",
       "      <td>36060092</td>\n",
       "      <td>22RV1</td>\n",
       "      <td>498</td>\n",
       "      <td>-0.055041</td>\n",
       "      <td>0.044215</td>\n",
       "      <td>-1.244839</td>\n",
       "      <td>-0.094960</td>\n",
       "      <td>0.044215</td>\n",
       "      <td>...</td>\n",
       "      <td>-1.648458</td>\n",
       "      <td>-0.954725</td>\n",
       "      <td>-0.304914</td>\n",
       "      <td>0.168399</td>\n",
       "      <td>-0.079574</td>\n",
       "      <td>0.064855</td>\n",
       "      <td>-1.226956</td>\n",
       "      <td>-0.035922</td>\n",
       "      <td>-0.035922</td>\n",
       "      <td>NaN</td>\n",
       "    </tr>\n",
       "    <tr>\n",
       "      <th>3</th>\n",
       "      <td>AKT3</td>\n",
       "      <td>CCNE2</td>\n",
       "      <td>36060092</td>\n",
       "      <td>22RV1</td>\n",
       "      <td>499</td>\n",
       "      <td>-0.012519</td>\n",
       "      <td>0.043639</td>\n",
       "      <td>-0.286871</td>\n",
       "      <td>-0.052437</td>\n",
       "      <td>0.043639</td>\n",
       "      <td>...</td>\n",
       "      <td>0.015597</td>\n",
       "      <td>0.616933</td>\n",
       "      <td>-0.262514</td>\n",
       "      <td>0.123153</td>\n",
       "      <td>0.004231</td>\n",
       "      <td>0.051476</td>\n",
       "      <td>0.082203</td>\n",
       "      <td>-0.045427</td>\n",
       "      <td>-0.045427</td>\n",
       "      <td>NaN</td>\n",
       "    </tr>\n",
       "    <tr>\n",
       "      <th>4</th>\n",
       "      <td>AKT3</td>\n",
       "      <td>CDC6</td>\n",
       "      <td>36060092</td>\n",
       "      <td>22RV1</td>\n",
       "      <td>500</td>\n",
       "      <td>0.044958</td>\n",
       "      <td>0.109140</td>\n",
       "      <td>0.411928</td>\n",
       "      <td>0.005039</td>\n",
       "      <td>0.109140</td>\n",
       "      <td>...</td>\n",
       "      <td>0.079230</td>\n",
       "      <td>0.253455</td>\n",
       "      <td>0.015164</td>\n",
       "      <td>0.186259</td>\n",
       "      <td>-0.046699</td>\n",
       "      <td>0.098840</td>\n",
       "      <td>-0.472464</td>\n",
       "      <td>0.002442</td>\n",
       "      <td>0.002442</td>\n",
       "      <td>NaN</td>\n",
       "    </tr>\n",
       "    <tr>\n",
       "      <th>5</th>\n",
       "      <td>AKT3</td>\n",
       "      <td>CDK2</td>\n",
       "      <td>36060092</td>\n",
       "      <td>22RV1</td>\n",
       "      <td>501</td>\n",
       "      <td>0.046438</td>\n",
       "      <td>0.065290</td>\n",
       "      <td>0.711268</td>\n",
       "      <td>0.006520</td>\n",
       "      <td>0.065290</td>\n",
       "      <td>...</td>\n",
       "      <td>1.357099</td>\n",
       "      <td>2.168888</td>\n",
       "      <td>-0.015867</td>\n",
       "      <td>0.121892</td>\n",
       "      <td>0.127801</td>\n",
       "      <td>0.062357</td>\n",
       "      <td>2.049505</td>\n",
       "      <td>-0.082281</td>\n",
       "      <td>-0.082281</td>\n",
       "      <td>NaN</td>\n",
       "    </tr>\n",
       "    <tr>\n",
       "      <th>6</th>\n",
       "      <td>AKT3</td>\n",
       "      <td>CTNNB1</td>\n",
       "      <td>36060092</td>\n",
       "      <td>22RV1</td>\n",
       "      <td>502</td>\n",
       "      <td>-0.003363</td>\n",
       "      <td>0.039923</td>\n",
       "      <td>-0.084237</td>\n",
       "      <td>-0.043282</td>\n",
       "      <td>0.039923</td>\n",
       "      <td>...</td>\n",
       "      <td>-2.260286</td>\n",
       "      <td>-1.494126</td>\n",
       "      <td>-0.368898</td>\n",
       "      <td>0.151781</td>\n",
       "      <td>-0.093034</td>\n",
       "      <td>0.047451</td>\n",
       "      <td>-1.960613</td>\n",
       "      <td>-0.126063</td>\n",
       "      <td>-0.126063</td>\n",
       "      <td>NaN</td>\n",
       "    </tr>\n",
       "    <tr>\n",
       "      <th>7</th>\n",
       "      <td>AKT3</td>\n",
       "      <td>DHFR</td>\n",
       "      <td>36060092</td>\n",
       "      <td>22RV1</td>\n",
       "      <td>503</td>\n",
       "      <td>0.108463</td>\n",
       "      <td>0.099658</td>\n",
       "      <td>1.088355</td>\n",
       "      <td>0.068544</td>\n",
       "      <td>0.099658</td>\n",
       "      <td>...</td>\n",
       "      <td>-1.010516</td>\n",
       "      <td>0.270471</td>\n",
       "      <td>-0.207039</td>\n",
       "      <td>0.126963</td>\n",
       "      <td>0.115901</td>\n",
       "      <td>0.087806</td>\n",
       "      <td>1.319972</td>\n",
       "      <td>-0.072729</td>\n",
       "      <td>-0.072729</td>\n",
       "      <td>NaN</td>\n",
       "    </tr>\n",
       "    <tr>\n",
       "      <th>8</th>\n",
       "      <td>AKT3</td>\n",
       "      <td>ETF1</td>\n",
       "      <td>36060092</td>\n",
       "      <td>22RV1</td>\n",
       "      <td>504</td>\n",
       "      <td>-0.163307</td>\n",
       "      <td>0.213862</td>\n",
       "      <td>-0.763611</td>\n",
       "      <td>-0.203226</td>\n",
       "      <td>0.213862</td>\n",
       "      <td>...</td>\n",
       "      <td>-0.366060</td>\n",
       "      <td>-0.069083</td>\n",
       "      <td>0.167150</td>\n",
       "      <td>0.218769</td>\n",
       "      <td>0.084006</td>\n",
       "      <td>0.162383</td>\n",
       "      <td>0.517337</td>\n",
       "      <td>-0.132287</td>\n",
       "      <td>NaN</td>\n",
       "      <td>0.046196</td>\n",
       "    </tr>\n",
       "    <tr>\n",
       "      <th>9</th>\n",
       "      <td>AKT3</td>\n",
       "      <td>EZH2</td>\n",
       "      <td>36060092</td>\n",
       "      <td>22RV1</td>\n",
       "      <td>505</td>\n",
       "      <td>0.060990</td>\n",
       "      <td>0.059958</td>\n",
       "      <td>1.017218</td>\n",
       "      <td>0.021071</td>\n",
       "      <td>0.059958</td>\n",
       "      <td>...</td>\n",
       "      <td>-0.024138</td>\n",
       "      <td>0.495638</td>\n",
       "      <td>0.016892</td>\n",
       "      <td>0.199305</td>\n",
       "      <td>0.066378</td>\n",
       "      <td>0.059060</td>\n",
       "      <td>1.123910</td>\n",
       "      <td>-0.052789</td>\n",
       "      <td>-0.052789</td>\n",
       "      <td>NaN</td>\n",
       "    </tr>\n",
       "    <tr>\n",
       "      <th>10</th>\n",
       "      <td>AKT3</td>\n",
       "      <td>GART</td>\n",
       "      <td>36060092</td>\n",
       "      <td>22RV1</td>\n",
       "      <td>506</td>\n",
       "      <td>0.008524</td>\n",
       "      <td>0.067631</td>\n",
       "      <td>0.126038</td>\n",
       "      <td>-0.031395</td>\n",
       "      <td>0.067631</td>\n",
       "      <td>...</td>\n",
       "      <td>-0.627314</td>\n",
       "      <td>0.244083</td>\n",
       "      <td>-0.253000</td>\n",
       "      <td>0.182221</td>\n",
       "      <td>-0.005339</td>\n",
       "      <td>0.066982</td>\n",
       "      <td>-0.079700</td>\n",
       "      <td>-0.050497</td>\n",
       "      <td>-0.050497</td>\n",
       "      <td>NaN</td>\n",
       "    </tr>\n",
       "    <tr>\n",
       "      <th>11</th>\n",
       "      <td>AKT3</td>\n",
       "      <td>GRB2</td>\n",
       "      <td>36060092</td>\n",
       "      <td>22RV1</td>\n",
       "      <td>507</td>\n",
       "      <td>0.063329</td>\n",
       "      <td>0.055902</td>\n",
       "      <td>1.132847</td>\n",
       "      <td>0.023410</td>\n",
       "      <td>0.055902</td>\n",
       "      <td>...</td>\n",
       "      <td>0.354106</td>\n",
       "      <td>1.310315</td>\n",
       "      <td>0.284057</td>\n",
       "      <td>0.117775</td>\n",
       "      <td>0.048306</td>\n",
       "      <td>0.050273</td>\n",
       "      <td>0.960890</td>\n",
       "      <td>-0.097459</td>\n",
       "      <td>-0.097459</td>\n",
       "      <td>NaN</td>\n",
       "    </tr>\n",
       "    <tr>\n",
       "      <th>12</th>\n",
       "      <td>AKT3</td>\n",
       "      <td>HDAC1</td>\n",
       "      <td>36060092</td>\n",
       "      <td>22RV1</td>\n",
       "      <td>508</td>\n",
       "      <td>0.018502</td>\n",
       "      <td>0.045253</td>\n",
       "      <td>0.408862</td>\n",
       "      <td>-0.021416</td>\n",
       "      <td>0.045253</td>\n",
       "      <td>...</td>\n",
       "      <td>-0.272819</td>\n",
       "      <td>0.362661</td>\n",
       "      <td>-0.195151</td>\n",
       "      <td>0.203285</td>\n",
       "      <td>-0.027716</td>\n",
       "      <td>0.053467</td>\n",
       "      <td>-0.518381</td>\n",
       "      <td>-0.102605</td>\n",
       "      <td>-0.102605</td>\n",
       "      <td>NaN</td>\n",
       "    </tr>\n",
       "    <tr>\n",
       "      <th>13</th>\n",
       "      <td>AKT3</td>\n",
       "      <td>HPRT1</td>\n",
       "      <td>36060092</td>\n",
       "      <td>22RV1</td>\n",
       "      <td>509</td>\n",
       "      <td>0.009629</td>\n",
       "      <td>0.064219</td>\n",
       "      <td>0.149937</td>\n",
       "      <td>-0.030290</td>\n",
       "      <td>0.064219</td>\n",
       "      <td>...</td>\n",
       "      <td>-0.253647</td>\n",
       "      <td>0.236532</td>\n",
       "      <td>-0.157458</td>\n",
       "      <td>0.132038</td>\n",
       "      <td>-0.002214</td>\n",
       "      <td>0.061391</td>\n",
       "      <td>-0.036056</td>\n",
       "      <td>-0.074225</td>\n",
       "      <td>-0.074225</td>\n",
       "      <td>NaN</td>\n",
       "    </tr>\n",
       "    <tr>\n",
       "      <th>14</th>\n",
       "      <td>AKT3</td>\n",
       "      <td>HSP90AA1</td>\n",
       "      <td>36060092</td>\n",
       "      <td>22RV1</td>\n",
       "      <td>510</td>\n",
       "      <td>0.015715</td>\n",
       "      <td>0.060126</td>\n",
       "      <td>0.261372</td>\n",
       "      <td>-0.024203</td>\n",
       "      <td>0.060126</td>\n",
       "      <td>...</td>\n",
       "      <td>-2.167722</td>\n",
       "      <td>-1.592695</td>\n",
       "      <td>-0.568105</td>\n",
       "      <td>0.190058</td>\n",
       "      <td>-0.061354</td>\n",
       "      <td>0.061433</td>\n",
       "      <td>-0.998711</td>\n",
       "      <td>-0.000642</td>\n",
       "      <td>-0.000642</td>\n",
       "      <td>NaN</td>\n",
       "    </tr>\n",
       "  </tbody>\n",
       "</table>\n",
       "<p>15 rows × 21 columns</p>\n",
       "</div>"
      ],
      "text/plain": [
       "   gene_1    gene_2 study_origin cell_line_origin  gene_pair_id  \\\n",
       "0    AKT3        AR     36060092            22RV1           496   \n",
       "1    AKT3     AURKA     36060092            22RV1           497   \n",
       "2    AKT3      BMP6     36060092            22RV1           498   \n",
       "3    AKT3     CCNE2     36060092            22RV1           499   \n",
       "4    AKT3      CDC6     36060092            22RV1           500   \n",
       "5    AKT3      CDK2     36060092            22RV1           501   \n",
       "6    AKT3    CTNNB1     36060092            22RV1           502   \n",
       "7    AKT3      DHFR     36060092            22RV1           503   \n",
       "8    AKT3      ETF1     36060092            22RV1           504   \n",
       "9    AKT3      EZH2     36060092            22RV1           505   \n",
       "10   AKT3      GART     36060092            22RV1           506   \n",
       "11   AKT3      GRB2     36060092            22RV1           507   \n",
       "12   AKT3     HDAC1     36060092            22RV1           508   \n",
       "13   AKT3     HPRT1     36060092            22RV1           509   \n",
       "14   AKT3  HSP90AA1     36060092            22RV1           510   \n",
       "\n",
       "    median_nb_score_SL_score  median_nb_score_standard_error  \\\n",
       "0                  -0.022646                        0.056881   \n",
       "1                   0.060470                        0.102366   \n",
       "2                  -0.055041                        0.044215   \n",
       "3                  -0.012519                        0.043639   \n",
       "4                   0.044958                        0.109140   \n",
       "5                   0.046438                        0.065290   \n",
       "6                  -0.003363                        0.039923   \n",
       "7                   0.108463                        0.099658   \n",
       "8                  -0.163307                        0.213862   \n",
       "9                   0.060990                        0.059958   \n",
       "10                  0.008524                        0.067631   \n",
       "11                  0.063329                        0.055902   \n",
       "12                  0.018502                        0.045253   \n",
       "13                  0.009629                        0.064219   \n",
       "14                  0.015715                        0.060126   \n",
       "\n",
       "    median_nb_score_Z_SL_score  median_b_score_SL_score  \\\n",
       "0                    -0.398139                -0.062565   \n",
       "1                     0.590720                 0.020551   \n",
       "2                    -1.244839                -0.094960   \n",
       "3                    -0.286871                -0.052437   \n",
       "4                     0.411928                 0.005039   \n",
       "5                     0.711268                 0.006520   \n",
       "6                    -0.084237                -0.043282   \n",
       "7                     1.088355                 0.068544   \n",
       "8                    -0.763611                -0.203226   \n",
       "9                     1.017218                 0.021071   \n",
       "10                    0.126038                -0.031395   \n",
       "11                    1.132847                 0.023410   \n",
       "12                    0.408862                -0.021416   \n",
       "13                    0.149937                -0.030290   \n",
       "14                    0.261372                -0.024203   \n",
       "\n",
       "    median_b_score_standard_error  ...  sgrna_derived_b_score_SL_score  \\\n",
       "0                        0.056881  ...                       -2.490022   \n",
       "1                        0.102366  ...                        0.346373   \n",
       "2                        0.044215  ...                       -1.648458   \n",
       "3                        0.043639  ...                        0.015597   \n",
       "4                        0.109140  ...                        0.079230   \n",
       "5                        0.065290  ...                        1.357099   \n",
       "6                        0.039923  ...                       -2.260286   \n",
       "7                        0.099658  ...                       -1.010516   \n",
       "8                        0.213862  ...                       -0.366060   \n",
       "9                        0.059958  ...                       -0.024138   \n",
       "10                       0.067631  ...                       -0.627314   \n",
       "11                       0.055902  ...                        0.354106   \n",
       "12                       0.045253  ...                       -0.272819   \n",
       "13                       0.064219  ...                       -0.253647   \n",
       "14                       0.060126  ...                       -2.167722   \n",
       "\n",
       "    sgrna_derived_nb_score_SL_score  horlbeck_score_SL_score  \\\n",
       "0                         -1.760639                -0.589468   \n",
       "1                          0.496084                -0.014408   \n",
       "2                         -0.954725                -0.304914   \n",
       "3                          0.616933                -0.262514   \n",
       "4                          0.253455                 0.015164   \n",
       "5                          2.168888                -0.015867   \n",
       "6                         -1.494126                -0.368898   \n",
       "7                          0.270471                -0.207039   \n",
       "8                         -0.069083                 0.167150   \n",
       "9                          0.495638                 0.016892   \n",
       "10                         0.244083                -0.253000   \n",
       "11                         1.310315                 0.284057   \n",
       "12                         0.362661                -0.195151   \n",
       "13                         0.236532                -0.157458   \n",
       "14                        -1.592695                -0.568105   \n",
       "\n",
       "    horlbeck_score_standard_error  mageck_score_SL_score  \\\n",
       "0                        0.258965              -0.068160   \n",
       "1                        0.156112               0.044937   \n",
       "2                        0.168399              -0.079574   \n",
       "3                        0.123153               0.004231   \n",
       "4                        0.186259              -0.046699   \n",
       "5                        0.121892               0.127801   \n",
       "6                        0.151781              -0.093034   \n",
       "7                        0.126963               0.115901   \n",
       "8                        0.218769               0.084006   \n",
       "9                        0.199305               0.066378   \n",
       "10                       0.182221              -0.005339   \n",
       "11                       0.117775               0.048306   \n",
       "12                       0.203285              -0.027716   \n",
       "13                       0.132038              -0.002214   \n",
       "14                       0.190058              -0.061354   \n",
       "\n",
       "    mageck_score_standard_error  mageck_score_Z_SL_score  \\\n",
       "0                      0.066297                -1.028105   \n",
       "1                      0.086791                 0.517758   \n",
       "2                      0.064855                -1.226956   \n",
       "3                      0.051476                 0.082203   \n",
       "4                      0.098840                -0.472464   \n",
       "5                      0.062357                 2.049505   \n",
       "6                      0.047451                -1.960613   \n",
       "7                      0.087806                 1.319972   \n",
       "8                      0.162383                 0.517337   \n",
       "9                      0.059060                 1.123910   \n",
       "10                     0.066982                -0.079700   \n",
       "11                     0.050273                 0.960890   \n",
       "12                     0.053467                -0.518381   \n",
       "13                     0.061391                -0.036056   \n",
       "14                     0.061433                -0.998711   \n",
       "\n",
       "    gemini_score_SL_score_Strong  gemini_score_SL_score_SensitiveLethality  \\\n",
       "0                      -0.091424                                 -0.091424   \n",
       "1                      -0.046752                                 -0.046752   \n",
       "2                      -0.035922                                 -0.035922   \n",
       "3                      -0.045427                                 -0.045427   \n",
       "4                       0.002442                                  0.002442   \n",
       "5                      -0.082281                                 -0.082281   \n",
       "6                      -0.126063                                 -0.126063   \n",
       "7                      -0.072729                                 -0.072729   \n",
       "8                      -0.132287                                       NaN   \n",
       "9                      -0.052789                                 -0.052789   \n",
       "10                     -0.050497                                 -0.050497   \n",
       "11                     -0.097459                                 -0.097459   \n",
       "12                     -0.102605                                 -0.102605   \n",
       "13                     -0.074225                                 -0.074225   \n",
       "14                     -0.000642                                 -0.000642   \n",
       "\n",
       "    gemini_score_SL_score_SensitiveRecovery  \n",
       "0                                       NaN  \n",
       "1                                       NaN  \n",
       "2                                       NaN  \n",
       "3                                       NaN  \n",
       "4                                       NaN  \n",
       "5                                       NaN  \n",
       "6                                       NaN  \n",
       "7                                       NaN  \n",
       "8                                  0.046196  \n",
       "9                                       NaN  \n",
       "10                                      NaN  \n",
       "11                                      NaN  \n",
       "12                                      NaN  \n",
       "13                                      NaN  \n",
       "14                                      NaN  \n",
       "\n",
       "[15 rows x 21 columns]"
      ]
     },
     "execution_count": 22,
     "metadata": {},
     "output_type": "execute_result"
    }
   ],
   "source": [
    "all_scores.head(15)"
   ]
  },
  {
   "attachments": {},
   "cell_type": "markdown",
   "metadata": {},
   "source": [
    "# Section 3.5 - Query Results for specific tables\n",
    "If the user has created additional tables and calculated their own scores, they can directly access their result"
   ]
  },
  {
   "cell_type": "code",
   "execution_count": 23,
   "metadata": {
    "tags": []
   },
   "outputs": [
    {
     "name": "stdout",
     "output_type": "stream",
     "text": [
      "Accessing table: median_b_score\n",
      "Available gene pairs: 1225\n"
     ]
    }
   ],
   "source": [
    "temp = SLKB.query_result_table(curr_counts.copy(), 'median_b_score', curr_study, curr_cl, SLKB_engine)"
   ]
  },
  {
   "cell_type": "code",
   "execution_count": 24,
   "metadata": {
    "tags": []
   },
   "outputs": [
    {
     "data": {
      "text/html": [
       "<div>\n",
       "<style scoped>\n",
       "    .dataframe tbody tr th:only-of-type {\n",
       "        vertical-align: middle;\n",
       "    }\n",
       "\n",
       "    .dataframe tbody tr th {\n",
       "        vertical-align: top;\n",
       "    }\n",
       "\n",
       "    .dataframe thead th {\n",
       "        text-align: right;\n",
       "    }\n",
       "</style>\n",
       "<table border=\"1\" class=\"dataframe\">\n",
       "  <thead>\n",
       "    <tr style=\"text-align: right;\">\n",
       "      <th></th>\n",
       "      <th>gene_pair</th>\n",
       "      <th>median_b_score_SL_score</th>\n",
       "      <th>median_b_score_standard_error</th>\n",
       "      <th>median_b_score_Z_SL_score</th>\n",
       "      <th>study_origin</th>\n",
       "      <th>cell_line_origin</th>\n",
       "    </tr>\n",
       "  </thead>\n",
       "  <tbody>\n",
       "    <tr>\n",
       "      <th>0</th>\n",
       "      <td>AKT3|AR</td>\n",
       "      <td>-0.062565</td>\n",
       "      <td>0.056881</td>\n",
       "      <td>-1.099934</td>\n",
       "      <td>36060092</td>\n",
       "      <td>22RV1</td>\n",
       "    </tr>\n",
       "    <tr>\n",
       "      <th>1</th>\n",
       "      <td>AKT3|AURKA</td>\n",
       "      <td>0.020551</td>\n",
       "      <td>0.102366</td>\n",
       "      <td>0.200761</td>\n",
       "      <td>36060092</td>\n",
       "      <td>22RV1</td>\n",
       "    </tr>\n",
       "    <tr>\n",
       "      <th>2</th>\n",
       "      <td>AKT3|BMP6</td>\n",
       "      <td>-0.094960</td>\n",
       "      <td>0.044215</td>\n",
       "      <td>-2.147660</td>\n",
       "      <td>36060092</td>\n",
       "      <td>22RV1</td>\n",
       "    </tr>\n",
       "    <tr>\n",
       "      <th>3</th>\n",
       "      <td>AKT3|CCNE2</td>\n",
       "      <td>-0.052437</td>\n",
       "      <td>0.043639</td>\n",
       "      <td>-1.201618</td>\n",
       "      <td>36060092</td>\n",
       "      <td>22RV1</td>\n",
       "    </tr>\n",
       "    <tr>\n",
       "      <th>4</th>\n",
       "      <td>AKT3|CDC6</td>\n",
       "      <td>0.005039</td>\n",
       "      <td>0.109140</td>\n",
       "      <td>0.046173</td>\n",
       "      <td>36060092</td>\n",
       "      <td>22RV1</td>\n",
       "    </tr>\n",
       "    <tr>\n",
       "      <th>5</th>\n",
       "      <td>AKT3|CDK2</td>\n",
       "      <td>0.006520</td>\n",
       "      <td>0.065290</td>\n",
       "      <td>0.099859</td>\n",
       "      <td>36060092</td>\n",
       "      <td>22RV1</td>\n",
       "    </tr>\n",
       "    <tr>\n",
       "      <th>6</th>\n",
       "      <td>AKT3|CTNNB1</td>\n",
       "      <td>-0.043282</td>\n",
       "      <td>0.039923</td>\n",
       "      <td>-1.084114</td>\n",
       "      <td>36060092</td>\n",
       "      <td>22RV1</td>\n",
       "    </tr>\n",
       "    <tr>\n",
       "      <th>7</th>\n",
       "      <td>AKT3|DHFR</td>\n",
       "      <td>0.068544</td>\n",
       "      <td>0.099658</td>\n",
       "      <td>0.687798</td>\n",
       "      <td>36060092</td>\n",
       "      <td>22RV1</td>\n",
       "    </tr>\n",
       "    <tr>\n",
       "      <th>8</th>\n",
       "      <td>AKT3|ETF1</td>\n",
       "      <td>-0.203226</td>\n",
       "      <td>0.213862</td>\n",
       "      <td>-0.950267</td>\n",
       "      <td>36060092</td>\n",
       "      <td>22RV1</td>\n",
       "    </tr>\n",
       "    <tr>\n",
       "      <th>9</th>\n",
       "      <td>AKT3|EZH2</td>\n",
       "      <td>0.021071</td>\n",
       "      <td>0.059958</td>\n",
       "      <td>0.351438</td>\n",
       "      <td>36060092</td>\n",
       "      <td>22RV1</td>\n",
       "    </tr>\n",
       "    <tr>\n",
       "      <th>10</th>\n",
       "      <td>AKT3|GART</td>\n",
       "      <td>-0.031395</td>\n",
       "      <td>0.067631</td>\n",
       "      <td>-0.464207</td>\n",
       "      <td>36060092</td>\n",
       "      <td>22RV1</td>\n",
       "    </tr>\n",
       "    <tr>\n",
       "      <th>11</th>\n",
       "      <td>AKT3|GRB2</td>\n",
       "      <td>0.023410</td>\n",
       "      <td>0.055902</td>\n",
       "      <td>0.418769</td>\n",
       "      <td>36060092</td>\n",
       "      <td>22RV1</td>\n",
       "    </tr>\n",
       "    <tr>\n",
       "      <th>12</th>\n",
       "      <td>AKT3|HDAC1</td>\n",
       "      <td>-0.021416</td>\n",
       "      <td>0.045253</td>\n",
       "      <td>-0.473256</td>\n",
       "      <td>36060092</td>\n",
       "      <td>22RV1</td>\n",
       "    </tr>\n",
       "    <tr>\n",
       "      <th>13</th>\n",
       "      <td>AKT3|HPRT1</td>\n",
       "      <td>-0.030290</td>\n",
       "      <td>0.064219</td>\n",
       "      <td>-0.471663</td>\n",
       "      <td>36060092</td>\n",
       "      <td>22RV1</td>\n",
       "    </tr>\n",
       "    <tr>\n",
       "      <th>14</th>\n",
       "      <td>AKT3|HSP90AA1</td>\n",
       "      <td>-0.024203</td>\n",
       "      <td>0.060126</td>\n",
       "      <td>-0.402542</td>\n",
       "      <td>36060092</td>\n",
       "      <td>22RV1</td>\n",
       "    </tr>\n",
       "  </tbody>\n",
       "</table>\n",
       "</div>"
      ],
      "text/plain": [
       "        gene_pair  median_b_score_SL_score  median_b_score_standard_error  \\\n",
       "0         AKT3|AR                -0.062565                       0.056881   \n",
       "1      AKT3|AURKA                 0.020551                       0.102366   \n",
       "2       AKT3|BMP6                -0.094960                       0.044215   \n",
       "3      AKT3|CCNE2                -0.052437                       0.043639   \n",
       "4       AKT3|CDC6                 0.005039                       0.109140   \n",
       "5       AKT3|CDK2                 0.006520                       0.065290   \n",
       "6     AKT3|CTNNB1                -0.043282                       0.039923   \n",
       "7       AKT3|DHFR                 0.068544                       0.099658   \n",
       "8       AKT3|ETF1                -0.203226                       0.213862   \n",
       "9       AKT3|EZH2                 0.021071                       0.059958   \n",
       "10      AKT3|GART                -0.031395                       0.067631   \n",
       "11      AKT3|GRB2                 0.023410                       0.055902   \n",
       "12     AKT3|HDAC1                -0.021416                       0.045253   \n",
       "13     AKT3|HPRT1                -0.030290                       0.064219   \n",
       "14  AKT3|HSP90AA1                -0.024203                       0.060126   \n",
       "\n",
       "    median_b_score_Z_SL_score study_origin cell_line_origin  \n",
       "0                   -1.099934     36060092            22RV1  \n",
       "1                    0.200761     36060092            22RV1  \n",
       "2                   -2.147660     36060092            22RV1  \n",
       "3                   -1.201618     36060092            22RV1  \n",
       "4                    0.046173     36060092            22RV1  \n",
       "5                    0.099859     36060092            22RV1  \n",
       "6                   -1.084114     36060092            22RV1  \n",
       "7                    0.687798     36060092            22RV1  \n",
       "8                   -0.950267     36060092            22RV1  \n",
       "9                    0.351438     36060092            22RV1  \n",
       "10                  -0.464207     36060092            22RV1  \n",
       "11                   0.418769     36060092            22RV1  \n",
       "12                  -0.473256     36060092            22RV1  \n",
       "13                  -0.471663     36060092            22RV1  \n",
       "14                  -0.402542     36060092            22RV1  "
      ]
     },
     "execution_count": 24,
     "metadata": {},
     "output_type": "execute_result"
    }
   ],
   "source": [
    "temp.head(15)"
   ]
  },
  {
   "attachments": {},
   "cell_type": "markdown",
   "metadata": {},
   "source": [
    "# Section 4 - SLKB Dump File\n",
    "SLKB's database dump can be inserted into your local database as well. After downloading the dump file from the following [link](https://figshare.com/s/06c2fc68cb33ec22f591), the contents can be inserted to the database either through python right here, or through command-line interface (CLI)."
   ]
  },
  {
   "cell_type": "code",
   "execution_count": null,
   "metadata": {},
   "outputs": [],
   "source": [
    "sql_dump_loc = ''\n",
    "# read the schema\n",
    "with open(sql_dump_loc) as f:\n",
    "    command = f.read()\n",
    "\n",
    "# execute\n",
    "with SLKB_engine.begin() as transaction:\n",
    "    for com in command.split(';\\n'):\n",
    "        transaction.execute(sqlalchemy.text(com)) "
   ]
  },
  {
   "attachments": {},
   "cell_type": "markdown",
   "metadata": {},
   "source": [
    "# Closing the connection\n",
    "Following SLKB access, the connection should be closed."
   ]
  },
  {
   "cell_type": "code",
   "execution_count": 25,
   "metadata": {
    "tags": []
   },
   "outputs": [],
   "source": [
    "SLKB_engine.dispose()"
   ]
  },
  {
   "attachments": {},
   "cell_type": "markdown",
   "metadata": {},
   "source": [
    "# Section 5 - Loading up SLKB Web App for Analysis\n",
    "Following database creation, SLKB's webapp can be used for data browsing and analysis locally. Run the following command to copy SLKB web app contents to your designated folder. Proceed to edit the server.R within the webapp to get started. "
   ]
  },
  {
   "cell_type": "code",
   "execution_count": 26,
   "metadata": {},
   "outputs": [
    {
     "name": "stdout",
     "output_type": "stream",
     "text": [
      "Extracting to location: /Users/gokbag.1/Documents/CodingProjectsLocal/SLKB-Analysis-Pipeline/SLKB/files\n",
      "Done!\n"
     ]
    }
   ],
   "source": [
    "SLKB.extract_SLKB_webapp(location = os.getcwd())"
   ]
  }
 ],
 "metadata": {
  "kernelspec": {
   "display_name": "SLKB_env",
   "language": "python",
   "name": "slkb_env"
  },
  "language_info": {
   "codemirror_mode": {
    "name": "ipython",
    "version": 3
   },
   "file_extension": ".py",
   "mimetype": "text/x-python",
   "name": "python",
   "nbconvert_exporter": "python",
   "pygments_lexer": "ipython3",
   "version": "3.10.9"
  }
 },
 "nbformat": 4,
 "nbformat_minor": 4
}
